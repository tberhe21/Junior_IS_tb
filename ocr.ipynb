{
 "cells": [
  {
   "cell_type": "code",
   "execution_count": 1,
   "metadata": {},
   "outputs": [],
   "source": [
    "import pytesseract\n",
    "from pytesseract import Output\n",
    "import PIL.Image\n",
    "import cv2 as cv\n"
   ]
  },
  {
   "cell_type": "code",
   "execution_count": 6,
   "metadata": {},
   "outputs": [
    {
     "name": "stdout",
     "output_type": "stream",
     "text": [
      "Drug Facts =\n",
      "Active ingredient (in each gelcap) Purpose} -\n",
      "— Acetami 500: cea raleerioves reel i, -.\n",
      "\n"
     ]
    }
   ],
   "source": [
    "# this program reads and image that has been passed throught the preprocessing ipnyb file and it reads it this is not included in the user interface because of complexity and time.\n",
    "\n",
    "my_config = r\"--psm 6 --oem 1\"\n",
    "text  =  pytesseract.image_to_string(PIL.Image.open(\"image.png\"), config = my_config)\n",
    "print(text)\n",
    "\n",
    "img = cv.imread(\"med_image.png\")\n",
    "height, width, _ = img.shape\n",
    "\n",
    "# Separates the text in string\n",
    "data = pytesseract.image_to_data(img, config=my_config, output_type=Output.DICT)\n",
    "# print(data['text'])\n",
    "\n",
    "amount_boxes = len(data['text']) \n",
    "# boxes = pytesseract.image_to_boxes(img, config=my_config)\n",
    "# for box in boxes.splitlines():\n",
    "#     box = box.split(\" \")\n",
    "#     img = cv.rectangle(img, (int(box[1]), height - int(box[2])), (int(box[3]), \n",
    "#                                                                   height - int(box[4])), (0, 255, 0), 2)\n",
    "\n",
    "\n",
    "# cv.imshow(\"img\", img)\n",
    "# cv.waitKey(0)\n",
    "\n"
   ]
  }
 ],
 "metadata": {
  "kernelspec": {
   "display_name": ".venv",
   "language": "python",
   "name": "python3"
  },
  "language_info": {
   "codemirror_mode": {
    "name": "ipython",
    "version": 3
   },
   "file_extension": ".py",
   "mimetype": "text/x-python",
   "name": "python",
   "nbconvert_exporter": "python",
   "pygments_lexer": "ipython3",
   "version": "3.10.11"
  },
  "orig_nbformat": 4
 },
 "nbformat": 4,
 "nbformat_minor": 2
}
